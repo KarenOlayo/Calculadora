{
 "cells": [
  {
   "cell_type": "markdown",
   "metadata": {},
   "source": [
    "### Importaciones"
   ]
  },
  {
   "cell_type": "code",
   "execution_count": 3,
   "metadata": {},
   "outputs": [],
   "source": [
    "import numpy as np #type:ignore"
   ]
  },
  {
   "cell_type": "markdown",
   "metadata": {},
   "source": [
    "### Interfaz de Entrada"
   ]
  },
  {
   "cell_type": "code",
   "execution_count": 10,
   "metadata": {},
   "outputs": [],
   "source": [
    "class Combinador:\n",
    "    \n",
    "    def __init__(self):\n",
    "        self.__dimension = np.nan\n",
    "        self.__nro_vectores = np.nan\n",
    "        self.__vectores =[]\n",
    "        self.calcular_escalares()\n",
    "    \n",
    "    def pedir_datos(self):\n",
    "        dimension = int(input(\"Ingrese la dimensión de los vectores: \"))\n",
    "        nro_vectores = int(input(\"Ingrese el numero de vectores: \"))\n",
    "        \n",
    "        for i in range(nro_vectores+1):\n",
    "            if i == 0:\n",
    "                print(\"\\nVector a verificar\")\n",
    "                vector = np.full(dimension, fill_value=np.nan, dtype=float)\n",
    "                for j in range(dimension):\n",
    "                    elemento = float(input(f\"Ingrese el elemento {j+1} del vector a verificar: \"))\n",
    "                    vector[j] = elemento\n",
    "                self.__vectores.append(vector.tolist())\n",
    "            else:\n",
    "                print(f\"\\nVector {i}: \")\n",
    "                vector = np.full(dimension, fill_value=np.nan, dtype=float)\n",
    "                for j in range(dimension):\n",
    "                    elemento = float(input(f\"Ingrese el elemento {j+1} del vector {i}: \"))\n",
    "                    vector[j] = elemento\n",
    "                self.__vectores.append(vector.tolist())   \n",
    "        \n",
    "    \n",
    "    def calcular_escalares(self):\n",
    "        \n",
    "        self.pedir_datos()\n",
    "        \n",
    "        a = np.array(self.__vectores)[1:]\n",
    "        b = np.array(self.__vectores[0])\n",
    "        x = np.linalg.solve(a,b)\n",
    "        print(x)"
   ]
  },
  {
   "cell_type": "code",
   "execution_count": null,
   "metadata": {},
   "outputs": [],
   "source": [
    "combinador = Combinador()"
   ]
  }
 ],
 "metadata": {
  "kernelspec": {
   "display_name": "Python 3",
   "language": "python",
   "name": "python3"
  },
  "language_info": {
   "codemirror_mode": {
    "name": "ipython",
    "version": 3
   },
   "file_extension": ".py",
   "mimetype": "text/x-python",
   "name": "python",
   "nbconvert_exporter": "python",
   "pygments_lexer": "ipython3",
   "version": "3.12.5"
  }
 },
 "nbformat": 4,
 "nbformat_minor": 2
}
